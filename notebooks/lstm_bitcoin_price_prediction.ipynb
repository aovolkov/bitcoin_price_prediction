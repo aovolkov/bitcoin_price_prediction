{
  "nbformat": 4,
  "nbformat_minor": 0,
  "metadata": {
    "kernelspec": {
      "display_name": "Python 3",
      "language": "python",
      "name": "python3"
    },
    "language_info": {
      "codemirror_mode": {
        "name": "ipython",
        "version": 3
      },
      "file_extension": ".py",
      "mimetype": "text/x-python",
      "name": "python",
      "nbconvert_exporter": "python",
      "pygments_lexer": "ipython3",
      "version": "3.7.3"
    },
    "colab": {
      "name": "lstm_bitcoin_price_prediction.ipynb",
      "provenance": [],
      "include_colab_link": true
    }
  },
  "cells": [
    {
      "cell_type": "markdown",
      "metadata": {
        "id": "view-in-github",
        "colab_type": "text"
      },
      "source": [
        "<a href=\"https://colab.research.google.com/github/aovolkov/bitcoin_price_prediction/blob/main/notebooks/lstm_bitcoin_price_prediction.ipynb\" target=\"_parent\"><img src=\"https://colab.research.google.com/assets/colab-badge.svg\" alt=\"Open In Colab\"/></a>"
      ]
    },
    {
      "cell_type": "code",
      "metadata": {
        "id": "fAZP7MroHlT9",
        "colab": {
          "base_uri": "https://localhost:8080/"
        },
        "outputId": "47d8b4ff-3dbf-48c9-c8eb-ac7d041f2def"
      },
      "source": [
        "import pandas as pd\n",
        "import numpy as np\n",
        "from IPython.display import clear_output\n",
        "import matplotlib.pyplot as plt\n",
        "from scipy import stats\n",
        "import statsmodels.api as sm\n",
        "import warnings\n",
        "from itertools import product\n",
        "from tqdm import tqdm\n",
        "import torch\n",
        "import torch.nn as nn\n",
        "from torch.autograd import Variable\n",
        "from sklearn.preprocessing import MinMaxScaler, StandardScaler\n",
        "\n",
        "%matplotlib inline"
      ],
      "execution_count": 1,
      "outputs": [
        {
          "output_type": "stream",
          "text": [
            "/usr/local/lib/python3.6/dist-packages/statsmodels/tools/_testing.py:19: FutureWarning: pandas.util.testing is deprecated. Use the functions in the public API at pandas.testing instead.\n",
            "  import pandas.util.testing as tm\n"
          ],
          "name": "stderr"
        }
      ]
    },
    {
      "cell_type": "markdown",
      "metadata": {
        "id": "YEOKWvA2HlUL"
      },
      "source": [
        "Датасет содержит данные цены (включая цену открытия, закрытия, самую высокую и низкую) за период с 31.12.2011 по 14.09.2020 c биржи _Bitstamp_."
      ]
    },
    {
      "cell_type": "markdown",
      "metadata": {
        "id": "iPVNjhhTHlUM"
      },
      "source": [
        "## Первичное преобразование данных"
      ]
    },
    {
      "cell_type": "code",
      "metadata": {
        "id": "V0H4Ptq8HxRc",
        "colab": {
          "base_uri": "https://localhost:8080/"
        },
        "outputId": "9df437ad-b061-468b-d830-ca7265c72440"
      },
      "source": [
        "from google.colab import drive\n",
        "drive.mount('/content/drive')"
      ],
      "execution_count": 2,
      "outputs": [
        {
          "output_type": "stream",
          "text": [
            "Drive already mounted at /content/drive; to attempt to forcibly remount, call drive.mount(\"/content/drive\", force_remount=True).\n"
          ],
          "name": "stdout"
        }
      ]
    },
    {
      "cell_type": "code",
      "metadata": {
        "id": "DFuSnCTtNZrJ"
      },
      "source": [
        "data_btc_day = pd.read_csv('/content/drive/MyDrive/Colab Notebooks/Projects/Bitcoin_price/bitcoin_price_day.csv')\n",
        "data_btc_month = pd.read_csv('/content/drive/MyDrive/Colab Notebooks/Projects/Bitcoin_price/bitcoin_price_month.csv')"
      ],
      "execution_count": 3,
      "outputs": []
    },
    {
      "cell_type": "code",
      "metadata": {
        "id": "8YcR-B4IaFTz",
        "colab": {
          "base_uri": "https://localhost:8080/"
        },
        "outputId": "c405039f-5626-4a96-deee-e965e322f813"
      },
      "source": [
        "data_btc_day.shape"
      ],
      "execution_count": 4,
      "outputs": [
        {
          "output_type": "execute_result",
          "data": {
            "text/plain": [
              "(3178, 10)"
            ]
          },
          "metadata": {
            "tags": []
          },
          "execution_count": 4
        }
      ]
    },
    {
      "cell_type": "code",
      "metadata": {
        "colab": {
          "base_uri": "https://localhost:8080/"
        },
        "id": "nBBg3u4pqoEH",
        "outputId": "3376e35e-d1d3-48fe-8c1d-2fcaa51c3d32"
      },
      "source": [
        "data_btc_day.info()"
      ],
      "execution_count": 5,
      "outputs": [
        {
          "output_type": "stream",
          "text": [
            "<class 'pandas.core.frame.DataFrame'>\n",
            "RangeIndex: 3178 entries, 0 to 3177\n",
            "Data columns (total 10 columns):\n",
            " #   Column             Non-Null Count  Dtype  \n",
            "---  ------             --------------  -----  \n",
            " 0   DateTime           3178 non-null   object \n",
            " 1   Open               3178 non-null   float64\n",
            " 2   High               3178 non-null   float64\n",
            " 3   Low                3178 non-null   float64\n",
            " 4   Close              3178 non-null   float64\n",
            " 5   Volume_(BTC)       3178 non-null   float64\n",
            " 6   Volume_(Currency)  3178 non-null   float64\n",
            " 7   Weighted_Price     3178 non-null   float64\n",
            " 8   Date               3178 non-null   object \n",
            " 9   Time               3178 non-null   object \n",
            "dtypes: float64(7), object(3)\n",
            "memory usage: 248.4+ KB\n"
          ],
          "name": "stdout"
        }
      ]
    },
    {
      "cell_type": "code",
      "metadata": {
        "id": "dUAB-4MKxgRb",
        "colab": {
          "base_uri": "https://localhost:8080/"
        },
        "outputId": "8bbfe8cf-90d4-4743-fd0c-30674f235348"
      },
      "source": [
        "data_btc_day['DateTime'] = pd.to_datetime(data_btc_day['DateTime'])\n",
        "data_btc_day.set_index('DateTime', inplace=True)\n",
        "data_price_day = data_btc_day['Weighted_Price']\n",
        "data_price_day.head()"
      ],
      "execution_count": 6,
      "outputs": [
        {
          "output_type": "execute_result",
          "data": {
            "text/plain": [
              "DateTime\n",
              "2011-12-31 17:00:00    4.580000\n",
              "2012-01-01 22:45:00    5.000000\n",
              "2012-01-02 20:04:00    5.000000\n",
              "2012-01-03 17:27:00    5.290000\n",
              "2012-01-04 17:51:00    5.442972\n",
              "Name: Weighted_Price, dtype: float64"
            ]
          },
          "metadata": {
            "tags": []
          },
          "execution_count": 6
        }
      ]
    },
    {
      "cell_type": "markdown",
      "metadata": {
        "id": "FoYyuD2y7CHN"
      },
      "source": [
        "Функция скользящего окна."
      ]
    },
    {
      "cell_type": "code",
      "metadata": {
        "id": "dXbqNqWXZkMY"
      },
      "source": [
        "def sliding_window(data, window_length):\n",
        "    xs = []\n",
        "    ys = []\n",
        "\n",
        "    for i in range(len(data)-window_length-1):\n",
        "        x_i = data[i:(i+window_length)]\n",
        "        y_i = data[i+window_length]\n",
        "        xs.append(x_i)\n",
        "        ys.append(y_i)\n",
        "\n",
        "    xs = np.array(xs)\n",
        "    ys = np.array(ys)\n",
        "    xs_var = Variable(torch.from_numpy(xs).float())\n",
        "    ys_var = Variable(torch.from_numpy(ys).float())\n",
        "    return xs_var, ys_var"
      ],
      "execution_count": 7,
      "outputs": []
    },
    {
      "cell_type": "markdown",
      "metadata": {
        "id": "4enrrUkR2xMl"
      },
      "source": [
        "Отмасштабируем данные"
      ]
    },
    {
      "cell_type": "code",
      "metadata": {
        "id": "Nziep3k32v9D"
      },
      "source": [
        "sc = MinMaxScaler()\n",
        "training_data = sc.fit_transform(data_price_day.values.reshape((-1,1)))"
      ],
      "execution_count": 8,
      "outputs": []
    },
    {
      "cell_type": "markdown",
      "metadata": {
        "id": "UdaTPGnuzLkm"
      },
      "source": [
        "Тренировочный и тестовый датасеты."
      ]
    },
    {
      "cell_type": "code",
      "metadata": {
        "id": "EFSgeBR2dPMY"
      },
      "source": [
        "window_length = 20\n",
        "X_data, y_data = sliding_window(training_data, window_length) \n",
        "\n",
        "train_size = int(len(y_data) * 0.75)\n",
        "test_size = len(y_data) - train_size\n",
        "\n",
        "X_train = X_data[0:train_size]\n",
        "y_train = y_data[0:train_size]\n",
        "\n",
        "X_test = X_data[train_size:len(X_data)]\n",
        "y_test = y_data[train_size:len(y_data)]"
      ],
      "execution_count": 9,
      "outputs": []
    },
    {
      "cell_type": "markdown",
      "metadata": {
        "id": "ig7iWslydQXB"
      },
      "source": [
        "## LSTM Model\n",
        "\n"
      ]
    },
    {
      "cell_type": "code",
      "metadata": {
        "id": "pp--NVRPe2fu"
      },
      "source": [
        "class LSTM(nn.Module):\n",
        "\n",
        "    def __init__(self, input_size, hidden_size, num_layers):\n",
        "        super(LSTM, self).__init__()\n",
        "        \n",
        "        self.num_layers = num_layers\n",
        "        self.input_size = input_size\n",
        "        self.hidden_size = hidden_size\n",
        "        \n",
        "        self.lstm = nn.LSTM(input_size=input_size, hidden_size=hidden_size,\n",
        "                            num_layers=num_layers, batch_first=True)\n",
        "        \n",
        "        self.fc = nn.Linear(hidden_size, 1)\n",
        "\n",
        "    def forward(self, x):\n",
        "        h_0 = Variable(torch.zeros(\n",
        "            self.num_layers, x.size(0), self.hidden_size))\n",
        "        \n",
        "        c_0 = Variable(torch.zeros(\n",
        "            self.num_layers, x.size(0), self.hidden_size))\n",
        "        \n",
        "        output, (h_t, с_t) = self.lstm(x, (h_0, c_0))\n",
        "        h_t = h_t.view(-1, self.hidden_size)\n",
        "        out = self.fc(h_t)\n",
        "        return out"
      ],
      "execution_count": 10,
      "outputs": []
    },
    {
      "cell_type": "code",
      "metadata": {
        "id": "r480lULfrN_S"
      },
      "source": [
        "# история значений ошибок\n",
        "history_loss = []\n",
        "\n",
        "# параметры модели\n",
        "input_size = 1\n",
        "hidden_size = 20\n",
        "num_layers = 1\n",
        "\n",
        "model = LSTM(input_size, hidden_size, num_layers)\n",
        "\n",
        "# функция ошибки\n",
        "criterion = torch.nn.MSELoss()\n",
        "\n",
        "# оптимизатор\n",
        "optimizer = torch.optim.Adam(model.parameters())"
      ],
      "execution_count": 11,
      "outputs": []
    },
    {
      "cell_type": "markdown",
      "metadata": {
        "id": "2U-iTmC_3Ai-"
      },
      "source": [
        "Обучение модели"
      ]
    },
    {
      "cell_type": "code",
      "metadata": {
        "colab": {
          "base_uri": "https://localhost:8080/",
          "height": 265
        },
        "id": "OHFFi52ye9oj",
        "outputId": "7113a753-16ba-4d1c-886e-9babea7236ad"
      },
      "source": [
        "NUM_EPOCHS = 500\n",
        "\n",
        "for epoch in range(NUM_EPOCHS):\n",
        "    \n",
        "    outputs = model(X_train)\n",
        "    optimizer.zero_grad()\n",
        "    \n",
        "    # считаем loss\n",
        "    loss = criterion(outputs, y_train)\n",
        "    \n",
        "    loss.backward()\n",
        "    \n",
        "    optimizer.step()\n",
        "\n",
        "    history_loss.append(loss.data.numpy())\n",
        "\n",
        "    if (epoch+1) % 10 == 0:\n",
        "            clear_output(True)\n",
        "            plt.plot(history_loss, label='ошибка на тренировочной выборке')\n",
        "            plt.legend()\n",
        "            plt.show()\n",
        "        \n",
        "assert np.mean(history_loss[:10]) > np.mean(history_loss[-10:]), \"Модель не сходится\""
      ],
      "execution_count": 12,
      "outputs": [
        {
          "output_type": "display_data",
          "data": {
            "image/png": "[encoded data removed]",
            "text/plain": [
              "<Figure size 432x288 with 1 Axes>"
            ]
          },
          "metadata": {
            "tags": [],
            "needs_background": "light"
          }
        }
      ]
    },
    {
      "cell_type": "markdown",
      "metadata": {
        "id": "_0efUcxR2-p6"
      },
      "source": [
        "Визуализация результатов"
      ]
    },
    {
      "cell_type": "code",
      "metadata": {
        "colab": {
          "base_uri": "https://localhost:8080/",
          "height": 484
        },
        "id": "v-pEBDG2fEfw",
        "outputId": "af7e59f7-5e8d-4101-ec76-568d2f95a87d"
      },
      "source": [
        "model.eval()\n",
        "train_predict = model(X_test)\n",
        "\n",
        "data_predict = train_predict.data.numpy()\n",
        "data_predict = sc.inverse_transform(data_predict)\n",
        "data_predict = np.concatenate((np.array([np.nan] * train_size), data_predict), axis=None)\n",
        "\n",
        "y_data_pl = y_data.data.numpy()\n",
        "y_data_pl = sc.inverse_transform(y_data_pl)\n",
        "\n",
        "plt.figure(figsize=(10,8))\n",
        "plt.axvline(x=train_size, c='g', linestyle='--')\n",
        "plt.plot(y_data_pl, label='true price')\n",
        "plt.plot(data_predict, label='predictions')\n",
        "plt.grid()\n",
        "plt.legend()\n",
        "plt.show()"
      ],
      "execution_count": 13,
      "outputs": [
        {
          "output_type": "display_data",
          "data": {
            "image/png": "[encoded data removed]",
            "text/plain": [
              "<Figure size 720x576 with 1 Axes>"
            ]
          },
          "metadata": {
            "tags": [],
            "needs_background": "light"
          }
        }
      ]
    },
    {
      "cell_type": "markdown",
      "metadata": {
        "id": "A2pS_nFk558Z"
      },
      "source": [
        "## Выводы\n",
        "\n",
        "1) Видно, что результаты прогнозов получаются достаточно правдоподобными. Ошибка заметно меньше, чем в модели ARIMA.\n",
        "\n",
        "2) Обучение здесь длилось гораздо быстрее, чем тот же самый подбор параметров в ARIMA. "
      ]
    },
    {
      "cell_type": "code",
      "metadata": {
        "id": "Hl9JFbb37QwC"
      },
      "source": [
        ""
      ],
      "execution_count": null,
      "outputs": []
    }
  ]
}